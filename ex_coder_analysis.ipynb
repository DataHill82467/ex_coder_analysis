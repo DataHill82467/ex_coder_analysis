{
 "cells": [
  {
   "cell_type": "code",
   "execution_count": null,
   "metadata": {},
   "outputs": [],
   "source": [
    "# GATHER\n",
    "# BUSINESS UNDERSTANDING\n",
    "# In this notebook we want to look at the stack over flow dataset and analyse people who used to work as programmers\n",
    "# A blog post showcasing the results can be found here: https://medium.com/@jakob.reinhardt/how-to-remain-a-happy-coder-in-a-coders-career-fa842a353207"
   ]
  },
  {
   "cell_type": "code",
   "execution_count": 2,
   "metadata": {},
   "outputs": [],
   "source": [
    "import numpy as np\n",
    "import pandas as pd\n",
    "import matplotlib.pyplot as plt\n",
    "from sklearn.linear_model import LinearRegression\n",
    "from sklearn.model_selection import train_test_split\n",
    "from sklearn.metrics import r2_score, mean_squared_error\n",
    "import seaborn as sns\n",
    "%matplotlib inline\n",
    "\n",
    "df = pd.read_csv('./survey_results_public.csv')\n",
    "df_schema = pd.read_csv('./survey_results_schema.csv')"
   ]
  },
  {
   "cell_type": "code",
   "execution_count": null,
   "metadata": {},
   "outputs": [],
   "source": [
    "# ASSESS\n",
    "# DATA UNDERSTANDING"
   ]
  },
  {
   "cell_type": "code",
   "execution_count": null,
   "metadata": {},
   "outputs": [],
   "source": [
    "# Research Question 1: Would former programmers return to programming if it weren’t for the money?\n",
    "# We take a look at all questions available in the questionnaire and pick one that suits the question \n",
    "# We want to know more about the motivation of ex.coders to return to coding"
   ]
  },
  {
   "cell_type": "code",
   "execution_count": 66,
   "metadata": {},
   "outputs": [
    {
     "name": "stdout",
     "output_type": "stream",
     "text": [
      "                               Column                                                                                                                                                                                                                                                                                                                                                                                                                                                                                                                                                                                                                                                                                                                                                                                                                                                                                                                                                                                                                                                                                                         Question\n",
      "0                          Respondent                                                                                                                                                                                                                                                                                                                                                                                                                                                                                                                                                                                                                                                                                                                                                                                                                                                                                                                                                                                                                                                                                             Respondent ID number\n",
      "1                        Professional                                                                                                                                                                                                                                                                                                                                                                                                                                                                                                                                                                                                                                                                                                                                                                                                                                                                                                                                                                                                                                                                       Which of the following best describes you?\n",
      "2                        ProgramHobby                                                                                                                                                                                                                                                                                                                                                                                                                                                                                                                                                                                                                                                                                                                                                                                                                                                                                                                                                                                                                                                 Do you program as a hobby or contribute to open source projects?\n",
      "3                             Country                                                                                                                                                                                                                                                                                                                                                                                                                                                                                                                                                                                                                                                                                                                                                                                                                                                                                                                                                                                                                                                                          In which country do you currently live?\n",
      "4                          University                                                                                                                                                                                                                                                                                                                                                                                                                                                                                                                                                                                                                                                                                                                                                                                                                                                                                                                                                                                                                           Are you currently enrolled in a formal, degree-granting college or university program?\n",
      "5                    EmploymentStatus                                                                                                                                                                                                                                                                                                                                                                                                                                                                                                                                                                                                                                                                                                                                                                                                                                                                                                                                                                                                                                            Which of the following best describes your current employment status?\n",
      "6                     FormalEducation                                                                                                                                                                                                                                                                                                                                                                                                                                                                                                                                                                                                                                                                                                                                                                                                                                                                                                                                                                                                               Which of the following best describes the highest level of formal education that you've completed?\n",
      "7                      MajorUndergrad                                                                                                                                                                                                                                                                                                                                                                                                                                                                                                                                                                                                                                                                                                                                                                                                                                                                                                                                                                            Which of the following best describes your main field of study (aka 'major') in college or university/for your undergraduate studies?\n",
      "8                          HomeRemote                                                                                                                                                                                                                                                                                                                                                                                                                                                                                                                                                                                                                                                                                                                                                                                                                                                                                                                                                                                                                                                                     How often do you work from home or remotely?\n",
      "9                         CompanySize                                                                                                                                                                                                                                                                                                                                                                                                                                                                                                                                                                                                                                                                                                                                                                                                                                                                                                                                                                                                                      In terms of the number of employees, how large is the company or organization you work for?\n",
      "10                        CompanyType                                                                                                                                                                                                                                                                                                                                                                                                                                                                                                                                                                                                                                                                                                                                                                                                                                                                                                                                                                                                                          Which of the following best describes the type of company or organization you work for?\n",
      "11                       YearsProgram                                                                                                                                                                                                                                                                                                                                                                                                                                                                                                                                                                                                                                                                                                                                                                                                                                                                                                                                                                                                                                                     How long has it been since you first learned how to program?\n",
      "12                      YearsCodedJob                                                                                                                                                                                                                                                                                                                                                                                                                                                                                                                                                                                                                                                                                                                                                                                                                                                                                                                                                                                                                                                           For how many years have you coded as part of your job?\n",
      "13                  YearsCodedJobPast                                                                                                                                                                                                                                                                                                                                                                                                                                                                                                                                                                                                                                                                                                                                                                                                                                                                                                                                                                                                                                                             For how many years did you code as part of your job?\n",
      "14                      DeveloperType                                                                                                                                                                                                                                                                                                                                                                                                                                                                                                                                                                                                                                                                                                                                                                                                                                                                                                                                                                                                                                                                        Which of the following best describe you?\n",
      "15                   WebDeveloperType                                                                                                                                                                                                                                                                                                                                                                                                                                                                                                                                                                                                                                                                                                                                                                                                                                                                                                                                                                                                                                                    Which of the following best describes you as a Web developer?\n",
      "16                MobileDeveloperType                                                                                                                                                                                                                                                                                                                                                                                                                                                                                                                                                                                                                                                                                                                                                                                                                                                                                                                                                                                                                                         For which of the following platforms do you develop mobile applications?\n",
      "17                   NonDeveloperType                                                                                                                                                                                                                                                                                                                                                                                                                                                                                                                                                                                                                                                                                                                                                                                                                                                                                                                                                                                                                                                                             Which of the following describe you?\n",
      "18                 CareerSatisfaction                                                                                                                                                                                                                                                                                                                                                                                                                                                                                                                                                                                                                                                                                                                                                                                                                                                                                                                                                                                                                                                                                       Career satisfaction rating\n",
      "19                    JobSatisfaction                                                                                                                                                                                                                                                                                                                                                                                                                                                                                                                                                                                                                                                                                                                                                                                                                                                                                                                                                                                                                                                                                          Job satisfaction rating\n",
      "20                      ExCoderReturn                                                                                                                                                                                                                                                                                                                                                                                                                                                                                                                                                                                                                                                                                                                                                                                                                                                                                                   You said before that you used to code as part of your job, but no longer do. To what extent do you agree or disagree with the following statements? If money weren't an issue, I would take a coding job again\n",
      "21                    ExCoderNotForMe                                                                                                                                                                                                                                                                                                                                                                                                                                                                                                                                                                                                                                                                                                                                                                                                                                                                                                                    You said before that you used to code as part of your job, but no longer do. To what extent do you agree or disagree with the following statements? Working as a developer just wasn't for me\n",
      "22                     ExCoderBalance                                                                                                                                                                                                                                                                                                                                                                                                                                                                                                                                                                                                                                                                                                                                                                                                                                                                                                You said before that you used to code as part of your job, but no longer do. To what extent do you agree or disagree with the following statements? I have better work-life balance now than I did as a developer\n",
      "23                     ExCoder10Years                                                                                                                                                                                                                                                                                                                                                                                                                                                                                                                                                                                                                                                                                                                                                                                                                                                                                                   You said before that you used to code as part of your job, but no longer do. To what extent do you agree or disagree with the following statements? My career is going the way I thought it would 10 years ago\n",
      "24                    ExCoderBelonged                                                                                                                                                                                                                                                                                                                                                                                                                                                                                                                                                                                                                                                                                                                                                                                                                                                                                     You said before that you used to code as part of your job, but no longer do. To what extent do you agree or disagree with the following statements? When I was a developer, I didn't feel like I belonged with my colleagues\n",
      "25                      ExCoderSkills                                                                                                                                                                                                                                                                                                                                                                                                                                                                                                                                                                                                                                                                                                                                                                                                                                                                                                                You said before that you used to code as part of your job, but no longer do. To what extent do you agree or disagree with the following statements? I don't think my coding skills are up to date\n",
      "26                 ExCoderWillNotCode                                                                                                                                                                                                                                                                                                                                                                                                                                                                                                                                                                                                                                                                                                                                                                                                                                                                                                                You said before that you used to code as part of your job, but no longer do. To what extent do you agree or disagree with the following statements? I probably won't code for a living ever again\n",
      "27                      ExCoderActive                                                                                                                                                                                                                                                                                                                                                                                                                                                                                                                                                                                                                                                                                                                                                                                                                                                                                                                  You said before that you used to code as part of your job, but no longer do. To what extent do you agree or disagree with the following statements? I'm still active in the developer community\n",
      "28                       PronounceGIF                                                                                                                                                                                                                                                                                                                                                                                                                                                                                                                                                                                                                                                                                                                                                                                                                                                                                                                                                                                                                                                                                      How do you pronounce \"GIF\"?\n",
      "29                     ProblemSolving                                                                                                                                                                                                                                                                                                                                                                                                                                                                                                                                                                                                                                                                                                                                                                                                                                                                                                                                                                                                                                                                                          I love solving problems\n",
      "30                     BuildingThings                                                                                                                                                                                                                                                                                                                                                                                                                                                                                                                                                                                                                                                                                                                                                                                                                                                                                                                                                                                                                                                                                Building things is very rewarding\n",
      "31                    LearningNewTech                                                                                                                                                                                                                                                                                                                                                                                                                                                                                                                                                                                                                                                                                                                                                                                                                                                                                                                                                                                                                                                                                 Learning new technologies is fun\n",
      "32                      BoringDetails                                                                                                                                                                                                                                                                                                                                                                                                                                                                                                                                                                                                                                                                                                                                                                                                                                                                                                                                                                                                                                                                    I tend to get bored by implementation details\n",
      "33                        JobSecurity                                                                                                                                                                                                                                                                                                                                                                                                                                                                                                                                                                                                                                                                                                                                                                                                                                                                                                                                                                                                                                                                                  Job security is important to me\n",
      "34                 DiversityImportant                                                                                                                                                                                                                                                                                                                                                                                                                                                                                                                                                                                                                                                                                                                                                                                                                                                                                                                                                                                                                                                                          Diversity in the workplace is important\n",
      "35                         AnnoyingUI                                                                                                                                                                                                                                                                                                                                                                                                                                                                                                                                                                                                                                                                                                                                                                                                                                                                                                                                                                                                                                                                         It annoys me when software has a poor UI\n",
      "36                  FriendsDevelopers                                                                                                                                                                                                                                                                                                                                                                                                                                                                                                                                                                                                                                                                                                                                                                                                                                                                                                                                                                                                                                                      Most of my friends are developers, engineers, or scientists\n",
      "37                      RightWrongWay                                                                                                                                                                                                                                                                                                                                                                                                                                                                                                                                                                                                                                                                                                                                                                                                                                                                                                                                                                                                                                                                 There's a right and a wrong way to do everything\n",
      "38                UnderstandComputers                                                                                                                                                                                                                                                                                                                                                                                                                                                                                                                                                                                                                                                                                                                                                                                                                                                                                                                                                                                                                                             Honestly, there's a lot about computers that I just don't understand\n",
      "39                        SeriousWork                                                                                                                                                                                                                                                                                                                                                                                                                                                                                                                                                                                                                                                                                                                                                                                                                                                                                                                                                                                                                                                                                    I take my work very seriously\n",
      "40                    InvestTimeTools                                                                                                                                                                                                                                                                                                                                                                                                                                                                                                                                                                                                                                                                                                                                                                                                                                                                                                                                                                                                                                                                      I invest a lot of time into the tools I use\n",
      "41                        WorkPayCare                                                                                                                                                                                                                                                                                                                                                                                                                                                                                                                                                                                                                                                                                                                                                                                                                                                                                                                                                                                                                                                     I don't really care what I work on, so long as I'm paid well\n",
      "42                  KinshipDevelopers                                                                                                                                                                                                                                                                                                                                                                                                                                                                                                                                                                                                                                                                                                                                                                                                                                                                                                                                                                                                                                                                    I feel a sense of kinship to other developers\n",
      "43                    ChallengeMyself                                                                                                                                                                                                                                                                                                                                                                                                                                                                                                                                                                                                                                                                                                                                                                                                                                                                                                                                                                                                                                                                                       I like to challenge myself\n",
      "44                       CompetePeers                                                                                                                                                                                                                                                                                                                                                                                                                                                                                                                                                                                                                                                                                                                                                                                                                                                                                                                                                                                                                                                                     I think of myself as competing with my peers\n",
      "45                        ChangeWorld                                                                                                                                                                                                                                                                                                                                                                                                                                                                                                                                                                                                                                                                                                                                                                                                                                                                                                                                                                                                                                                                                       I want to change the world\n",
      "46                   JobSeekingStatus                                                                                                                                                                                                                                                                                                                                                                                                                                                                                                                                                                                                                                                                                                                                                                                                                                                                                                                                                                                                                                           Which of the following best describes your current job-seeking status?\n",
      "47                       HoursPerWeek                                                                                                                                                                                                                                                                                                                                                                                                                                                                                                                                                                                                                                                                                                                                                                                                                                                     During a typical week, approximately how many hours do you spend on activities related to finding new job opportunities?Please adjust the slider to the appropriate number of hours. The box to the right will indicate the number of hours you have chosen.\n",
      "48                         LastNewJob                                                                                                                                                                                                                                                                                                                                                                                                                                                                                                                                                                                                                                                                                                                                                                                                                                                                                                                                                                                                                                                  When was the last time that you took a job with a new employer?\n",
      "49                  AssessJobIndustry                                                                                                                                                                                                                                                                                                                                                                                                                                                                                                                                                                                                                                                                                                                                                                                                                                                                                                                                                                            When you're assessing potential jobs to apply to, how important are each of the following to you? The industry that I'd be working in\n",
      "50                      AssessJobRole                                                                                                                                                                                                                                                                                                                                                                                                                                                                                                                                                                                                                                                                                                                                                                                                                                                                                                                                                             When you're assessing potential jobs to apply to, how important are each of the following to you? The specific role or job title I'd be applying for\n",
      "51                       AssessJobExp                                                                                                                                                                                                                                                                                                                                                                                                                                                                                                                                                                                                                                                                                                                                                                                                                                                                                                                                                         When you're assessing potential jobs to apply to, how important are each of the following to you? The experience level called for in the job description\n",
      "52                      AssessJobDept                                                                                                                                                                                                                                                                                                                                                                                                                                                                                                                                                                                                                                                                                                                                                                                                                                                                                                                                                              When you're assessing potential jobs to apply to, how important are each of the following to you? The specific department or team I'd be working on\n",
      "53                      AssessJobTech                                                                                                                                                                                                                                                                                                                                                                                                                                                                                                                                                                                                                                                                                                                                                                                                                                                                                                                                          When you're assessing potential jobs to apply to, how important are each of the following to you? The languages, frameworks, and other technologies I'd be working with\n",
      "54                  AssessJobProjects                                                                                                                                                                                                                                                                                                                                                                                                                                                                                                                                                                                                                                                                                                                                                                                                                                                                                                                                                        When you're assessing potential jobs to apply to, how important are each of the following to you? How projects are managed at the company or organization\n",
      "55              AssessJobCompensation                                                                                                                                                                                                                                                                                                                                                                                                                                                                                                                                                                                                                                                                                                                                                                                                                                                                                                                                                                          When you're assessing potential jobs to apply to, how important are each of the following to you? The compensation and benefits offered\n",
      "56                    AssessJobOffice                                                                                                                                                                                                                                                                                                                                                                                                                                                                                                                                                                                                                                                                                                                                                                                                                                                                                                                                                                       When you're assessing potential jobs to apply to, how important are each of the following to you? The office environment I'd be working in\n",
      "57                   AssessJobCommute                                                                                                                                                                                                                                                                                                                                                                                                                                                                                                                                                                                                                                                                                                                                                                                                                                                                                                                                                                 When you're assessing potential jobs to apply to, how important are each of the following to you? The amount of time I'd have to spend commuting\n",
      "58                    AssessJobRemote                                                                                                                                                                                                                                                                                                                                                                                                                                                                                                                                                                                                                                                                                                                                                                                                                                                                                                                                                                     When you're assessing potential jobs to apply to, how important are each of the following to you? The opportunity to work from home/remotely\n",
      "59                   AssessJobLeaders                                                                                                                                                                                                                                                                                                                                                                                                                                                                                                                                                                                                                                                                                                                                                                                                                                                                                                                                                                When you're assessing potential jobs to apply to, how important are each of the following to you? The reputations of the company's senior leaders\n",
      "60                 AssessJobProfDevel                                                                                                                                                                                                                                                                                                                                                                                                                                                                                                                                                                                                                                                                                                                                                                                                                                                                                                                                                                     When you're assessing potential jobs to apply to, how important are each of the following to you? Opportunities for professional development\n",
      "61                 AssessJobDiversity                                                                                                                                                                                                                                                                                                                                                                                                                                                                                                                                                                                                                                                                                                                                                                                                                                                                                                                                                                   When you're assessing potential jobs to apply to, how important are each of the following to you? The diversity of the company or organization\n",
      "62                   AssessJobProduct                                                                                                                                                                                                                                                                                                                                                                                                                                                                                                                                                                                                                                                                                                                                                                                                                                                                                                                                       When you're assessing potential jobs to apply to, how important are each of the following to you? How widely used or impactful the product or service I'd be working on is\n",
      "63                  AssessJobFinances                                                                                                                                                                                                                                                                                                                                                                                                                                                                                                                                                                                                                                                                                                                                                                                                                                                                                                                                     When you're assessing potential jobs to apply to, how important are each of the following to you? The financial performance or funding status of the company or organization\n",
      "64                  ImportantBenefits                                                                                                                                                                                                                                                                                                                                                                                                                                                                                                                                                                                                                                                                                                                                                                                                                                                                                                                                                                                            When it comes to compensation and benefits, other than base salary, which of the following are most important to you?\n",
      "65                         ClickyKeys                                                                                                                                                                                                                                                                                                                                                                                                                                                                                                                                                                                                                                                                                                                                                                                                                                                                                                                                                                                          If two developers are sharing an office, is it OK for one of them to get a mechanical keyboard with loud \"clicky\" keys?\n",
      "66                         JobProfile                                                                                                                                                                                                                                                                                                                                                                                                                                                                                                                                                                                                                                                                                                                                                                                                                                                                                                                                                                                                                                        On which of the following sites do you maintain a profile, CV, or resumé?\n",
      "67                     ResumePrompted                                                                                                                                                                                                                                                                                                                                                                                                                                                                                                                                                                                                                                                                                                                                                                                                                                                                                                                                                                                         Think back to the last time you updated your resumé, CV, or an online profile on a job site. What prompted you to do so?\n",
      "68                      LearnedHiring                                                                                                                                                                                                                                                                                                                                                                                                                                                                                                                                                                                                                                                                                                                                                                                                                                                                                                                                     Think back to when you first applied to work for your current employer. Which of the following best describes how you learned that they were hiring for that particular job?\n",
      "69          ImportantHiringAlgorithms                                                                                                                                                                                                                                                                                                                                                                                                                                                                                                                                                                                                                                                                              Congratulations! You've just been put in charge of technical recruiting at Globex, a multinational high- tech firm. This job comes with a corner office, and you have an experienced staff of recruiters at your disposal. They want to know what they should prioritize when recruiting software developers. How important should each of the following be in Globex's hiring process? Knowledge of algorithms and data structures\n",
      "70             ImportantHiringTechExp                                                                                                                                                                                                                                                                                                                                                                                                                                                                                                                                                                                                                                        Congratulations! You've just been put in charge of technical recruiting at Globex, a multinational high- tech firm. This job comes with a corner office, and you have an experienced staff of recruiters at your disposal. They want to know what they should prioritize when recruiting software developers. How important should each of the following be in Globex's hiring process? Experience with specific tools (libraries, frameworks, etc.) used by the employer\n",
      "71       ImportantHiringCommunication                                                                                                                                                                                                                                                                                                                                                                                                                                                                                                                                                                                                                                                                                                     Congratulations! You've just been put in charge of technical recruiting at Globex, a multinational high- tech firm. This job comes with a corner office, and you have an experienced staff of recruiters at your disposal. They want to know what they should prioritize when recruiting software developers. How important should each of the following be in Globex's hiring process? Communication skills\n",
      "72          ImportantHiringOpenSource                                                                                                                                                                                                                                                                                                                                                                                                                                                                                                                                                                                                                                                                                    Congratulations! You've just been put in charge of technical recruiting at Globex, a multinational high- tech firm. This job comes with a corner office, and you have an experienced staff of recruiters at your disposal. They want to know what they should prioritize when recruiting software developers. How important should each of the following be in Globex's hiring process? Contributions to open source projects\n",
      "73               ImportantHiringPMExp                                                                                                                                                                                                                                                                                                                                                                                                                                                                                                                                                                                                                                                           Congratulations! You've just been put in charge of technical recruiting at Globex, a multinational high- tech firm. This job comes with a corner office, and you have an experienced staff of recruiters at your disposal. They want to know what they should prioritize when recruiting software developers. How important should each of the following be in Globex's hiring process? Experience with specific project management tools & techniques\n",
      "74           ImportantHiringCompanies                                                                                                                                                                                                                                                                                                                                                                                                                                                                                                                                                                                                                                                                                             Congratulations! You've just been put in charge of technical recruiting at Globex, a multinational high- tech firm. This job comes with a corner office, and you have an experienced staff of recruiters at your disposal. They want to know what they should prioritize when recruiting software developers. How important should each of the following be in Globex's hiring process? Previous companies worked at\n",
      "75              ImportantHiringTitles                                                                                                                                                                                                                                                                                                                                                                                                                                                                                                                                                                                                                                                                                                 Congratulations! You've just been put in charge of technical recruiting at Globex, a multinational high- tech firm. This job comes with a corner office, and you have an experienced staff of recruiters at your disposal. They want to know what they should prioritize when recruiting software developers. How important should each of the following be in Globex's hiring process? Previous job titles held\n",
      "76           ImportantHiringEducation                                                                                                                                                                                                                                                                                                                                                                                                                                                                                                                                                                                                                                  Congratulations! You've just been put in charge of technical recruiting at Globex, a multinational high- tech firm. This job comes with a corner office, and you have an experienced staff of recruiters at your disposal. They want to know what they should prioritize when recruiting software developers. How important should each of the following be in Globex's hiring process? Educational credentials (e.g. schools attended, specific field of study, grades earned)\n",
      "77                 ImportantHiringRep                                                                                                                                                                                                                                                                                                                                                                                                                                                                                                                                                                                                                                                                                                Congratulations! You've just been put in charge of technical recruiting at Globex, a multinational high- tech firm. This job comes with a corner office, and you have an experienced staff of recruiters at your disposal. They want to know what they should prioritize when recruiting software developers. How important should each of the following be in Globex's hiring process? Stack Overflow reputation\n",
      "78   ImportantHiringGettingThingsDone                                                                                                                                                                                                                                                                                                                                                                                                                                                                                                                                                                                                                                                                                      Congratulations! You've just been put in charge of technical recruiting at Globex, a multinational high- tech firm. This job comes with a corner office, and you have an experienced staff of recruiters at your disposal. They want to know what they should prioritize when recruiting software developers. How important should each of the following be in Globex's hiring process? Track record of getting things done\n",
      "79                           Currency                                                                                                                                                                                                                                                                                                                                                                                                                                                                                                                                                                                                                                                                                                                                                                                                                                                                                                                                  Which currency do you use day-to-day? If you're a globe-trotting digital nomad and the answer is “it's complicated,” please pick the one you're most comfortable estimating in.\n",
      "80                           Overpaid                                                                                                                                                                                                                                                                                                                                                                                                                                                                                                                                                                                                                                                                                                                                                                                                                                                                                                                                                                                                                                       Compared to your estimate of your own market value, do you think you are…?\n",
      "81                         TabsSpaces                                                                                                                                                                                                                                                                                                                                                                                                                                                                                                                                                                                                                                                                                                                                                                                                                                                                                                                                                                                                                                                                                                  Tabs or spaces?\n",
      "82                 EducationImportant                                                                                                                                                                                                                                                                                                                                                                                                                                                                                                                                                                                                                                                                                                                                                                                                                                                                                                                                                                                                                      Overall, how important has your formal schooling and education been to your career success?\n",
      "83                     EducationTypes                                                                                                                                                                                                                                                                                                                                                                                                                                                                                                                                                                                                                                                                                                                                                                                                                                                                                                                                                                                                                            Outside of your formal schooling and education, which of the following have you done?\n",
      "84                    SelfTaughtTypes                                                                                                                                                                                                                                                                                                                                                                                                                                                                                                                                                                                                                                                                                                                                                                                                                                                                                    You indicated that you had taught yourself a programming technology without taking a course. What resources did you use to do that? If you've done it more than once, please think about the most recent time you've done so.\n",
      "85                  TimeAfterBootcamp                                                                                                                                                                                                                                                                                                                                                                                                                                                                                                                                                                                                                                                                                                                                                                                                                                                                                                                                                          You indicated previously that you went through a developer “bootcamp.” How long did it take you to get a full-time job as a developer after graduating?\n",
      "86                    CousinEducation  Let's pretend you have a distant cousin. They are 24 years old, have a college degree in a field not related to computer programming, and have been working a non-coding job for the last two years. They want your advice on how to switch to a career as a software developer. Which of the following options would you most strongly recommend to your cousin?\\r\\nLet's pretend you have a distant cousin named Robert. He is 24 years old, has a college degree in a field not related to computer programming, and has been working a non-coding job for the last two years. He wants your advice on how to switch to a career as a software developer. Which of the following options would you most strongly recommend to Robert?\\r\\nLet's pretend you have a distant cousin named Alice. She is 24 years old, has a college degree in a field not related to computer programming, and has been working a non-coding job for the last two years. She wants your advice on how to switch to a career as a software developer. Which of the following options would you most strongly recommend to Alice?\n",
      "87                          WorkStart                                                                                                                                                                                                                                                                                                                                                                                                                                                                                                                                                                                                                                                                                                                                                                                                                                                  Suppose you could choose your own working hours for an 8-hour day. What time would you start work for the day? Please adjust the slider to the hour nearest your ideal start time. The box next to the slider will display your selection using a 24-hour clock\n",
      "88                 HaveWorkedLanguage                                                                                                                                                                                                                                                                                                                                                                                                                                                                                                                                                                                                                                                                                                                                                                                                                                                                                                                                                            Which of the following languages have you done extensive development work in over the past year, and which do you want to work in over the next year?\n",
      "89                   WantWorkLanguage                                                                                                                                                                                                                                                                                                                                                                                                                                                                                                                                                                                                                                                                                                                                                                                                                                                                                                                                                            Which of the following languages have you done extensive development work in over the past year, and which do you want to work in over the next year?\n",
      "90                HaveWorkedFramework                                                                                                                                                                                                                                                                                                                                                                                                                                                                                                                                                                                                                                                                                                                                                                                                                                                                                                                                     Which of the following libraries, frameworks, and tools have you done extensive development work in over the past year, and which do you want to work in over the next year?\n",
      "91                  WantWorkFramework                                                                                                                                                                                                                                                                                                                                                                                                                                                                                                                                                                                                                                                                                                                                                                                                                                                                                                                                     Which of the following libraries, frameworks, and tools have you done extensive development work in over the past year, and which do you want to work in over the next year?\n",
      "92                 HaveWorkedDatabase                                                                                                                                                                                                                                                                                                                                                                                                                                                                                                                                                                                                                                                                                                                                                                                                                                                                                                                                                Which of the following database technologies have you done extensive development work in over the past year, and which do you want to work in over the next year?\n",
      "93                   WantWorkDatabase                                                                                                                                                                                                                                                                                                                                                                                                                                                                                                                                                                                                                                                                                                                                                                                                                                                                                                                                                Which of the following database technologies have you done extensive development work in over the past year, and which do you want to work in over the next year?\n",
      "94                 HaveWorkedPlatform                                                                                                                                                                                                                                                                                                                                                                                                                                                                                                                                                                                                                                                                                                                                                                                                                                                                                                                                                           Which of the following platforms have you done extensive development work for over the past year, and which do you want to work on over the next year?\n",
      "95                   WantWorkPlatform                                                                                                                                                                                                                                                                                                                                                                                                                                                                                                                                                                                                                                                                                                                                                                                                                                                                                                                                                           Which of the following platforms have you done extensive development work for over the past year, and which do you want to work on over the next year?\n",
      "96                                IDE                                                                                                                                                                                                                                                                                                                                                                                                                                                                                                                                                                                                                                                                                                                                                                                                                                                                                                                                                                                                                                                           Which development environment(s) do you use regularly?\n",
      "97                AuditoryEnvironment                                                                                                                                                                                                                                                                                                                                                                                                                                                                                                                                                                                                                                                                                                                                                                                                                                                                                                                                                 Suppose you're about to start a few hours of coding and have complete control over your auditory environment (music, background noise, etc.). What would you do?\n",
      "98                        Methodology                                                                                                                                                                                                                                                                                                                                                                                                                                                                                                                                                                                                                                                                                                                                                                                                                                                                                                                                                                                                                                          Which of the following methodologies do you have experience working in?\n",
      "99                     VersionControl                                                                                                                                                                                                                                                                                                                                                                                                                                                                                                                                                                                                                                                                                                                                                                                                                                                                                                                                                                                                            What version control system do you use? If you use several, please choose the one you use most often.\n",
      "100                       CheckInCode                                                                                                                                                                                                                                                                                                                                                                                                                                                                                                                                                                                                                                                                                                                                                                                                                                                                                                                                                                                                                                             Over the last year, how often have you checked-in or committed code?\n",
      "101                            ShipIt                                                                                                                                                                                                                                                                                                                                                                                                                                                                                                                                                                                                                                                                                                                                                                                                                                                                                                                                                                                                                                                                       It's better to ship now and optimize later\n",
      "102                  OtherPeoplesCode                                                                                                                                                                                                                                                                                                                                                                                                                                                                                                                                                                                                                                                                                                                                                                                                                                                                                                                                                                                                                                                             Maintaining other people's code is a form of torture\n",
      "103                 ProjectManagement                                                                                                                                                                                                                                                                                                                                                                                                                                                                                                                                                                                                                                                                                                                                                                                                                                                                                                                                                                                                                                                                   Most project management techniques are useless\n",
      "104                    EnjoyDebugging                                                                                                                                                                                                                                                                                                                                                                                                                                                                                                                                                                                                                                                                                                                                                                                                                                                                                                                                                                                                                                                                                           I enjoy debugging code\n",
      "105                         InTheZone                                                                                                                                                                                                                                                                                                                                                                                                                                                                                                                                                                                                                                                                                                                                                                                                                                                                                                                                                                                                                                                                      I often get “into the zone” when I'm coding\n",
      "106            DifficultCommunication                                                                                                                                                                                                                                                                                                                                                                                                                                                                                                                                                                                                                                                                                                                                                                                                                                                                                                                                                                                                                                                             I have difficulty communicating my ideas to my peers\n",
      "107                 CollaborateRemote                                                                                                                                                                                                                                                                                                                                                                                                                                                                                                                                                                                                                                                                                                                                                                                                                                                                                                                                                                                                                                                  It's harder to collaborate with remote peers than those on site\n",
      "108                      MetricAssess                                                                                                                                                                                                                                                                                                                                                                                                                                                                                                                                                                                                                                                                                                                                                                                                                                                                          Congratulations! The bosses at your new employer, E Corp, are allowing you to choose which metrics will be used to assess your individual performance in your role as a senior developer. Which metrics do you suggest to the E bosses?\n",
      "109        EquipmentSatisfiedMonitors                                                                                                                                                                                                                                                                                                                                                                                                                                                                                                                                                                                                                                                                                                                                                                                                                                                                                                                                                                    Thinking about your main coding workstation, how satisfied are you with each of the following? Monitors/screens (number of, size, resolution)\n",
      "110             EquipmentSatisfiedCPU                                                                                                                                                                                                                                                                                                                                                                                                                                                                                                                                                                                                                                                                                                                                                                                                                                                                                                                                                                                 Thinking about your main coding workstation, how satisfied are you with each of the following? Processing power (CPU and/or GPU)\n",
      "111             EquipmentSatisfiedRAM                                                                                                                                                                                                                                                                                                                                                                                                                                                                                                                                                                                                                                                                                                                                                                                                                                                                                                                                                                                                     Thinking about your main coding workstation, how satisfied are you with each of the following? Amount of RAM\n",
      "112         EquipmentSatisfiedStorage                                                                                                                                                                                                                                                                                                                                                                                                                                                                                                                                                                                                                                                                                                                                                                                                                                                                                                                                                                                                  Thinking about your main coding workstation, how satisfied are you with each of the following? Storage capacity\n",
      "113              EquipmentSatisfiedRW                                                                                                                                                                                                                                                                                                                                                                                                                                                                                                                                                                                                                                                                                                                                                                                                                                                                                                                                                                                          Thinking about your main coding workstation, how satisfied are you with each of the following? Storage read/write speed\n",
      "114                 InfluenceInternet                                                                                                                                                                                                                                                                                                                                                                                                                                                                                                                                                                                                                                                                                                                                                                                                                                                                                                                                                                                    How much influence do you have on purchasing decisions within your organization for each of the following? Internet bandwidth\n",
      "115              InfluenceWorkstation                                                                                                                                                                                                                                                                                                                                                                                                                                                                                                                                                                                                                                                                                                                                                                                                                                                                                                                                                                    How much influence do you have on purchasing decisions within your organization for each of the following? Your personal workstation hardware\n",
      "116                 InfluenceHardware                                                                                                                                                                                                                                                                                                                                                                                                                                                                                                                                                                                                                                                                                                                                                                                                                                                                                                                                               How much influence do you have on purchasing decisions within your organization for each of the following? Personal workstation hardware for others in the company\n",
      "117                  InfluenceServers                                                                                                                                                                                                                                                                                                                                                                                                                                                                                                                                                                                                                                                                                                                                                                                                                                                                                                                                                                                               How much influence do you have on purchasing decisions within your organization for each of the following? Servers\n",
      "118                InfluenceTechStack                                                                                                                                                                                                                                                                                                                                                                                                                                                                                                                                                                                                                                                                                                                                                                                                                                                                                                                                                                   How much influence do you have on purchasing decisions within your organization for each of the following? Main technical stack of the company\n",
      "119                 InfluenceDeptTech                                                                                                                                                                                                                                                                                                                                                                                                                                                                                                                                                                                                                                                                                                                                                                                                                                                                                                                                                               How much influence do you have on purchasing decisions within your organization for each of the following? Technical stack used in your department\n",
      "120                 InfluenceVizTools                                                                                                                                                                                                                                                                                                                                                                                                                                                                                                                                                                                                                                                                                                                                                                                                                                                                                                                                          How much influence do you have on purchasing decisions within your organization for each of the following? Data analysis and visualization tools (e.g. Tableau, Looker)\n",
      "121                 InfluenceDatabase                                                                                                                                                                                                                                                                                                                                                                                                                                                                                                                                                                                                                                                                                                                                                                                                                                                                                                                                                                         How much influence do you have on purchasing decisions within your organization for each of the following? Database systems or solutions\n",
      "122                    InfluenceCloud                                                                                                                                                                                                                                                                                                                                                                                                                                                                                                                                                                                                                                                                                                                                                                                                                                                                                                                                                                How much influence do you have on purchasing decisions within your organization for each of the following? Cloud or serverless back-end solutions\n",
      "123              InfluenceConsultants                                                                                                                                                                                                                                                                                                                                                                                                                                                                                                                                                                                                                                                                                                                                                                                                                                                                                                                                                                                           How much influence do you have on purchasing decisions within your organization for each of the following? Consultants\n",
      "124              InfluenceRecruitment                                                                                                                                                                                                                                                                                                                                                                                                                                                                                                                                                                                                                                                                                                                                                                                                                                                                                                                                                                         How much influence do you have on purchasing decisions within your organization for each of the following? Recruitment tools & platforms\n",
      "125            InfluenceCommunication                                                                                                                                                                                                                                                                                                                                                                                                                                                                                                                                                                                                                                                                                                                                                                                                                                                                                                                                                                   How much influence do you have on purchasing decisions within your organization for each of the following? Communication & collaboration tools\n",
      "126            StackOverflowDescribes                                                                                                                                                                                                                                                                                                                                                                                                                                                                                                                                                                                                                                                                                                                                                                                                                                                                                                                                                                                                                                                                       Which of the following best describes you?\n",
      "127         StackOverflowSatisfaction                                                                                                                                                                                                                                                                                                                                                                                                                                                                                                                                                                                                                                                                                                                                                                                                                                                                                                                                                                                                                                                                                      Stack Overflow satisfaction\n",
      "128              StackOverflowDevices                                                                                                                                                                                                                                                                                                                                                                                                                                                                                                                                                                                                                                                                                                                                                                                                                                                                                                                                                                                                            Which of the following devices have you used to connect to Stack Overflow over the last three months?\n",
      "129          StackOverflowFoundAnswer                                                                                                                                                                                                                                                                                                                                                                                                                                                                                                                                                                                                                                                                                                                                                                                                                                                                                                                                                         Over the last three months, approximately how often have you done each of the following on Stack Overflow? Found an answer that solved my coding problem\n",
      "130           StackOverflowCopiedCode                                                                                                                                                                                                                                                                                                                                                                                                                                                                                                                                                                                                                                                                                                                                                                                                                                                                                                                                                  Over the last three months, approximately how often have you done each of the following on Stack Overflow? Copied a code example and pasted it into my codebase\n",
      "131           StackOverflowJobListing                                                                                                                                                                                                                                                                                                                                                                                                                                                                                                                                                                                                                                                                                                                                                                                                                                                                                                                                                                Over the last three months, approximately how often have you done each of the following on Stack Overflow? Seen a job listing I was interested in\n",
      "132          StackOverflowCompanyPage                                                                                                                                                                                                                                                                                                                                                                                                                                                                                                                                                                                                                                                                                                                                                                                                                                                                                                                                          Over the last three months, approximately how often have you done each of the following on Stack Overflow? Researched a potential employer by visiting its company page\n",
      "133            StackOverflowJobSearch                                                                                                                                                                                                                                                                                                                                                                                                                                                                                                                                                                                                                                                                                                                                                                                                                                                                                                                                                                                     Over the last three months, approximately how often have you done each of the following on Stack Overflow? Searched for jobs\n",
      "134          StackOverflowNewQuestion                                                                                                                                                                                                                                                                                                                                                                                                                                                                                                                                                                                                                                                                                                                                                                                                                                                                                                                                                                                  Over the last three months, approximately how often have you done each of the following on Stack Overflow? Asked a new question\n",
      "135               StackOverflowAnswer                                                                                                                                                                                                                                                                                                                                                                                                                                                                                                                                                                                                                                                                                                                                                                                                                                                                                                                                                       Over the last three months, approximately how often have you done each of the following on Stack Overflow? Written a new answer to someone else's question\n",
      "136             StackOverflowMetaChat                                                                                                                                                                                                                                                                                                                                                                                                                                                                                                                                                                                                                                                                                                                                                                                                                                                                                                                                              Over the last three months, approximately how often have you done each of the following on Stack Overflow? Participated in community discussions on meta or in chat\n",
      "137          StackOverflowAdsRelevant                                                                                                                                                                                                                                                                                                                                                                                                                                                                                                                                                                                                                                                                                                                                                                                                                                                                                                                                                                                                                                                                     The ads on Stack Overflow are relevant to me\n",
      "138       StackOverflowAdsDistracting                                                                                                                                                                                                                                                                                                                                                                                                                                                                                                                                                                                                                                                                                                                                                                                                                                                                                                                                                                                                                                                                        The ads on Stack Overflow are distracting\n",
      "139           StackOverflowModeration                                                                                                                                                                                                                                                                                                                                                                                                                                                                                                                                                                                                                                                                                                                                                                                                                                                                                                                                                                                                                                                                       The moderation on Stack Overflow is unfair\n",
      "140            StackOverflowCommunity                                                                                                                                                                                                                                                                                                                                                                                                                                                                                                                                                                                                                                                                                                                                                                                                                                                                                                                                                                                                                                                             I feel like a member of the Stack Overflow community\n",
      "141              StackOverflowHelpful                                                                                                                                                                                                                                                                                                                                                                                                                                                                                                                                                                                                                                                                                                                                                                                                                                                                                                                                                                                                                                                The answers and code examples I get on Stack Overflow are helpful\n",
      "142               StackOverflowBetter                                                                                                                                                                                                                                                                                                                                                                                                                                                                                                                                                                                                                                                                                                                                                                                                                                                                                                                                                                                                                                                                 Stack Overflow makes the Internet a better place\n",
      "143               StackOverflowWhatDo                                                                                                                                                                                                                                                                                                                                                                                                                                                                                                                                                                                                                                                                                                                                                                                                                                                                                                                                                                                                                                                                  I don't know what I'd do without Stack Overflow\n",
      "144            StackOverflowMakeMoney                                                                                                                                                                                                                                                                                                                                                                                                                                                                                                                                                                                                                                                                                                                                                                                                                                                                                                                                                                                                                                                   The people who run Stack Overflow are just in it for the money\n",
      "145                            Gender                                                                                                                                                                                                                                                                                                                                                                                                                                                                                                                                                                                                                                                                                                                                                                                                                                                                                                                                                                                                                                                             Which of the following do you currently identify as?\n",
      "146           HighestEducationParents                                                                                                                                                                                                                                                                                                                                                                                                                                                                                                                                                                                                                                                                                                                                                                                                                                                                                                                                                                                                                                       What is the highest level of education received by either of your parents?\n",
      "147                              Race                                                                                                                                                                                                                                                                                                                                                                                                                                                                                                                                                                                                                                                                                                                                                                                                                                                                                                                                                                                                                                                                       Which of the following do you identify as?\n",
      "148                        SurveyLong                                                                                                                                                                                                                                                                                                                                                                                                                                                                                                                                                                                                                                                                                                                                                                                                                                                                                                                                                                                                                                                                                         This survey was too long\n",
      "149              QuestionsInteresting                                                                                                                                                                                                                                                                                                                                                                                                                                                                                                                                                                                                                                                                                                                                                                                                                                                                                                                                                                                                                                                                                   The questions were interesting\n",
      "150                QuestionsConfusing                                                                                                                                                                                                                                                                                                                                                                                                                                                                                                                                                                                                                                                                                                                                                                                                                                                                                                                                                                                                                                                                                     The questions were confusing\n",
      "151                 InterestedAnswers                                                                                                                                                                                                                                                                                                                                                                                                                                                                                                                                                                                                                                                                                                                                                                                                                                                                                                                                                                                                                                                         I'm interested in learning how other developers answered\n",
      "152                            Salary                                                                                                                                                                                                                                                                                                                                                                                                                                                                                                                                                                                                                                                                                                                                                                                                                                                                                                                                                                                                     What is your current annual base salary, before taxes, and excluding bonuses, grants, or other compensation?\n",
      "153                    ExpectedSalary                                                                                                                                                                                                                                                                                                                                                                                                                                                                                                                                                                                                                                                                                                                                                                                                                                                                                                                               You said before that you are currently learning how to program. When you have completed your studies, what annual salary do you expect to earn in your first job after graduation?\n"
     ]
    }
   ],
   "source": [
    "print(df_schema.to_string())"
   ]
  },
  {
   "cell_type": "code",
   "execution_count": 67,
   "metadata": {},
   "outputs": [
    {
     "data": {
      "text/plain": [
       "0       NaN\n",
       "1       NaN\n",
       "2       NaN\n",
       "3       NaN\n",
       "4       NaN\n",
       "5       NaN\n",
       "6       NaN\n",
       "7       NaN\n",
       "8       NaN\n",
       "9       NaN\n",
       "10      NaN\n",
       "11      NaN\n",
       "12    Agree\n",
       "13      NaN\n",
       "14      NaN\n",
       "15      NaN\n",
       "16      NaN\n",
       "17      NaN\n",
       "18      NaN\n",
       "19      NaN\n",
       "Name: ExCoderReturn, dtype: object"
      ]
     },
     "execution_count": 67,
     "metadata": {},
     "output_type": "execute_result"
    }
   ],
   "source": [
    "# The Question 'ExCoderReturn' is what we are looking for\n",
    "# We suppose that those individuals who report an answer to that question are people who used to work in coding \n",
    "# and are now pursuing other positions\n",
    "df.ExCoderReturn.head(20)"
   ]
  },
  {
   "cell_type": "code",
   "execution_count": 68,
   "metadata": {},
   "outputs": [],
   "source": [
    "# In order to create a dataset that includes just those people, we drop the rows with missing values\n",
    "# As a consequence, the dataset now consists only of those working in another job than coding but used to work as coders\n",
    "df = df.dropna(subset=['ExCoderReturn'], axis=0)\n",
    "# Another way of achieving at the same data set would be:\n",
    "#df.Salary[df.ExCoderReturn.notna()].head(50)"
   ]
  },
  {
   "cell_type": "code",
   "execution_count": 69,
   "metadata": {},
   "outputs": [
    {
     "data": {
      "text/plain": [
       "(923, 154)"
      ]
     },
     "execution_count": 69,
     "metadata": {},
     "output_type": "execute_result"
    }
   ],
   "source": [
    "df.shape"
   ]
  },
  {
   "cell_type": "code",
   "execution_count": 70,
   "metadata": {},
   "outputs": [
    {
     "data": {
      "text/plain": [
       "12                  Agree\n",
       "46                  Agree\n",
       "197        Somewhat agree\n",
       "266              Disagree\n",
       "309              Disagree\n",
       "369              Disagree\n",
       "428              Disagree\n",
       "441                 Agree\n",
       "456        Somewhat agree\n",
       "497                 Agree\n",
       "506        Somewhat agree\n",
       "731                 Agree\n",
       "792     Strongly disagree\n",
       "805              Disagree\n",
       "833                 Agree\n",
       "944        Somewhat agree\n",
       "969        Somewhat agree\n",
       "997                 Agree\n",
       "1042                Agree\n",
       "1133             Disagree\n",
       "Name: ExCoderReturn, dtype: object"
      ]
     },
     "execution_count": 70,
     "metadata": {},
     "output_type": "execute_result"
    }
   ],
   "source": [
    "df.ExCoderReturn.head(20)"
   ]
  },
  {
   "cell_type": "code",
   "execution_count": 71,
   "metadata": {},
   "outputs": [
    {
     "data": {
      "text/plain": [
       "(array([250.,   0., 215.,   0.,   0., 210.,   0., 102.,   0., 146.]),\n",
       " array([0. , 0.4, 0.8, 1.2, 1.6, 2. , 2.4, 2.8, 3.2, 3.6, 4. ]),\n",
       " <a list of 10 Patch objects>)"
      ]
     },
     "execution_count": 71,
     "metadata": {},
     "output_type": "execute_result"
    },
    {
     "data": {
      "image/png": "[encoded data removed]",
      "text/plain": [
       "<Figure size 432x288 with 1 Axes>"
      ]
     },
     "metadata": {
      "needs_background": "light"
     },
     "output_type": "display_data"
    }
   ],
   "source": [
    "# This histogram lets us do an exploratory analysis of whether they would still like to code or not\n",
    "plt.hist(df['ExCoderReturn'])"
   ]
  },
  {
   "cell_type": "code",
   "execution_count": 72,
   "metadata": {},
   "outputs": [
    {
     "data": {
      "text/plain": [
       "Agree                250\n",
       "Somewhat agree       215\n",
       "Disagree             210\n",
       "Strongly agree       146\n",
       "Strongly disagree    102\n",
       "Name: ExCoderReturn, dtype: int64"
      ]
     },
     "execution_count": 72,
     "metadata": {},
     "output_type": "execute_result"
    }
   ],
   "source": [
    "# This shows the quantities associated with the above plot\n",
    "# The conclusions made from this data can be found in the blogpost\n",
    "df['ExCoderReturn'].value_counts()"
   ]
  },
  {
   "cell_type": "code",
   "execution_count": null,
   "metadata": {},
   "outputs": [],
   "source": []
  },
  {
   "cell_type": "code",
   "execution_count": 73,
   "metadata": {},
   "outputs": [
    {
     "data": {
      "text/html": [
       "<div>\n",
       "<style scoped>\n",
       "    .dataframe tbody tr th:only-of-type {\n",
       "        vertical-align: middle;\n",
       "    }\n",
       "\n",
       "    .dataframe tbody tr th {\n",
       "        vertical-align: top;\n",
       "    }\n",
       "\n",
       "    .dataframe thead th {\n",
       "        text-align: right;\n",
       "    }\n",
       "</style>\n",
       "<table border=\"1\" class=\"dataframe\">\n",
       "  <thead>\n",
       "    <tr style=\"text-align: right;\">\n",
       "      <th></th>\n",
       "      <th>Respondent</th>\n",
       "      <th>Professional</th>\n",
       "      <th>ProgramHobby</th>\n",
       "      <th>Country</th>\n",
       "      <th>University</th>\n",
       "      <th>EmploymentStatus</th>\n",
       "      <th>FormalEducation</th>\n",
       "      <th>MajorUndergrad</th>\n",
       "      <th>HomeRemote</th>\n",
       "      <th>CompanySize</th>\n",
       "      <th>...</th>\n",
       "      <th>StackOverflowMakeMoney</th>\n",
       "      <th>Gender</th>\n",
       "      <th>HighestEducationParents</th>\n",
       "      <th>Race</th>\n",
       "      <th>SurveyLong</th>\n",
       "      <th>QuestionsInteresting</th>\n",
       "      <th>QuestionsConfusing</th>\n",
       "      <th>InterestedAnswers</th>\n",
       "      <th>Salary</th>\n",
       "      <th>ExpectedSalary</th>\n",
       "    </tr>\n",
       "  </thead>\n",
       "  <tbody>\n",
       "    <tr>\n",
       "      <th>0</th>\n",
       "      <td>1</td>\n",
       "      <td>Student</td>\n",
       "      <td>Yes, both</td>\n",
       "      <td>United States</td>\n",
       "      <td>No</td>\n",
       "      <td>Not employed, and not looking for work</td>\n",
       "      <td>Secondary school</td>\n",
       "      <td>NaN</td>\n",
       "      <td>NaN</td>\n",
       "      <td>NaN</td>\n",
       "      <td>...</td>\n",
       "      <td>Strongly disagree</td>\n",
       "      <td>Male</td>\n",
       "      <td>High school</td>\n",
       "      <td>White or of European descent</td>\n",
       "      <td>Strongly disagree</td>\n",
       "      <td>Strongly agree</td>\n",
       "      <td>Disagree</td>\n",
       "      <td>Strongly agree</td>\n",
       "      <td>NaN</td>\n",
       "      <td>NaN</td>\n",
       "    </tr>\n",
       "    <tr>\n",
       "      <th>1</th>\n",
       "      <td>2</td>\n",
       "      <td>Student</td>\n",
       "      <td>Yes, both</td>\n",
       "      <td>United Kingdom</td>\n",
       "      <td>Yes, full-time</td>\n",
       "      <td>Employed part-time</td>\n",
       "      <td>Some college/university study without earning ...</td>\n",
       "      <td>Computer science or software engineering</td>\n",
       "      <td>More than half, but not all, the time</td>\n",
       "      <td>20 to 99 employees</td>\n",
       "      <td>...</td>\n",
       "      <td>Strongly disagree</td>\n",
       "      <td>Male</td>\n",
       "      <td>A master's degree</td>\n",
       "      <td>White or of European descent</td>\n",
       "      <td>Somewhat agree</td>\n",
       "      <td>Somewhat agree</td>\n",
       "      <td>Disagree</td>\n",
       "      <td>Strongly agree</td>\n",
       "      <td>NaN</td>\n",
       "      <td>37500.0</td>\n",
       "    </tr>\n",
       "    <tr>\n",
       "      <th>2</th>\n",
       "      <td>3</td>\n",
       "      <td>Professional developer</td>\n",
       "      <td>Yes, both</td>\n",
       "      <td>United Kingdom</td>\n",
       "      <td>No</td>\n",
       "      <td>Employed full-time</td>\n",
       "      <td>Bachelor's degree</td>\n",
       "      <td>Computer science or software engineering</td>\n",
       "      <td>Less than half the time, but at least one day ...</td>\n",
       "      <td>10,000 or more employees</td>\n",
       "      <td>...</td>\n",
       "      <td>Disagree</td>\n",
       "      <td>Male</td>\n",
       "      <td>A professional degree</td>\n",
       "      <td>White or of European descent</td>\n",
       "      <td>Somewhat agree</td>\n",
       "      <td>Agree</td>\n",
       "      <td>Disagree</td>\n",
       "      <td>Agree</td>\n",
       "      <td>113750.0</td>\n",
       "      <td>NaN</td>\n",
       "    </tr>\n",
       "    <tr>\n",
       "      <th>3</th>\n",
       "      <td>4</td>\n",
       "      <td>Professional non-developer who sometimes write...</td>\n",
       "      <td>Yes, both</td>\n",
       "      <td>United States</td>\n",
       "      <td>No</td>\n",
       "      <td>Employed full-time</td>\n",
       "      <td>Doctoral degree</td>\n",
       "      <td>A non-computer-focused engineering discipline</td>\n",
       "      <td>Less than half the time, but at least one day ...</td>\n",
       "      <td>10,000 or more employees</td>\n",
       "      <td>...</td>\n",
       "      <td>Disagree</td>\n",
       "      <td>Male</td>\n",
       "      <td>A doctoral degree</td>\n",
       "      <td>White or of European descent</td>\n",
       "      <td>Agree</td>\n",
       "      <td>Agree</td>\n",
       "      <td>Somewhat agree</td>\n",
       "      <td>Strongly agree</td>\n",
       "      <td>NaN</td>\n",
       "      <td>NaN</td>\n",
       "    </tr>\n",
       "    <tr>\n",
       "      <th>4</th>\n",
       "      <td>5</td>\n",
       "      <td>Professional developer</td>\n",
       "      <td>Yes, I program as a hobby</td>\n",
       "      <td>Switzerland</td>\n",
       "      <td>No</td>\n",
       "      <td>Employed full-time</td>\n",
       "      <td>Master's degree</td>\n",
       "      <td>Computer science or software engineering</td>\n",
       "      <td>Never</td>\n",
       "      <td>10 to 19 employees</td>\n",
       "      <td>...</td>\n",
       "      <td>NaN</td>\n",
       "      <td>NaN</td>\n",
       "      <td>NaN</td>\n",
       "      <td>NaN</td>\n",
       "      <td>NaN</td>\n",
       "      <td>NaN</td>\n",
       "      <td>NaN</td>\n",
       "      <td>NaN</td>\n",
       "      <td>NaN</td>\n",
       "      <td>NaN</td>\n",
       "    </tr>\n",
       "  </tbody>\n",
       "</table>\n",
       "<p>5 rows × 154 columns</p>\n",
       "</div>"
      ],
      "text/plain": [
       "   Respondent                                       Professional  \\\n",
       "0           1                                            Student   \n",
       "1           2                                            Student   \n",
       "2           3                             Professional developer   \n",
       "3           4  Professional non-developer who sometimes write...   \n",
       "4           5                             Professional developer   \n",
       "\n",
       "                ProgramHobby         Country      University  \\\n",
       "0                  Yes, both   United States              No   \n",
       "1                  Yes, both  United Kingdom  Yes, full-time   \n",
       "2                  Yes, both  United Kingdom              No   \n",
       "3                  Yes, both   United States              No   \n",
       "4  Yes, I program as a hobby     Switzerland              No   \n",
       "\n",
       "                         EmploymentStatus  \\\n",
       "0  Not employed, and not looking for work   \n",
       "1                      Employed part-time   \n",
       "2                      Employed full-time   \n",
       "3                      Employed full-time   \n",
       "4                      Employed full-time   \n",
       "\n",
       "                                     FormalEducation  \\\n",
       "0                                   Secondary school   \n",
       "1  Some college/university study without earning ...   \n",
       "2                                  Bachelor's degree   \n",
       "3                                    Doctoral degree   \n",
       "4                                    Master's degree   \n",
       "\n",
       "                                  MajorUndergrad  \\\n",
       "0                                            NaN   \n",
       "1       Computer science or software engineering   \n",
       "2       Computer science or software engineering   \n",
       "3  A non-computer-focused engineering discipline   \n",
       "4       Computer science or software engineering   \n",
       "\n",
       "                                          HomeRemote  \\\n",
       "0                                                NaN   \n",
       "1              More than half, but not all, the time   \n",
       "2  Less than half the time, but at least one day ...   \n",
       "3  Less than half the time, but at least one day ...   \n",
       "4                                              Never   \n",
       "\n",
       "                CompanySize  ... StackOverflowMakeMoney Gender  \\\n",
       "0                       NaN  ...      Strongly disagree   Male   \n",
       "1        20 to 99 employees  ...      Strongly disagree   Male   \n",
       "2  10,000 or more employees  ...               Disagree   Male   \n",
       "3  10,000 or more employees  ...               Disagree   Male   \n",
       "4        10 to 19 employees  ...                    NaN    NaN   \n",
       "\n",
       "  HighestEducationParents                          Race         SurveyLong  \\\n",
       "0             High school  White or of European descent  Strongly disagree   \n",
       "1       A master's degree  White or of European descent     Somewhat agree   \n",
       "2   A professional degree  White or of European descent     Somewhat agree   \n",
       "3       A doctoral degree  White or of European descent              Agree   \n",
       "4                     NaN                           NaN                NaN   \n",
       "\n",
       "  QuestionsInteresting QuestionsConfusing InterestedAnswers    Salary  \\\n",
       "0       Strongly agree           Disagree    Strongly agree       NaN   \n",
       "1       Somewhat agree           Disagree    Strongly agree       NaN   \n",
       "2                Agree           Disagree             Agree  113750.0   \n",
       "3                Agree     Somewhat agree    Strongly agree       NaN   \n",
       "4                  NaN                NaN               NaN       NaN   \n",
       "\n",
       "   ExpectedSalary  \n",
       "0             NaN  \n",
       "1         37500.0  \n",
       "2             NaN  \n",
       "3             NaN  \n",
       "4             NaN  \n",
       "\n",
       "[5 rows x 154 columns]"
      ]
     },
     "execution_count": 73,
     "metadata": {},
     "output_type": "execute_result"
    }
   ],
   "source": [
    "# Research Question 2: Do ex-coders have a higher motivation for learning new things?\n",
    "df = pd.read_csv('./survey_results_public.csv')\n",
    "df.head()"
   ]
  },
  {
   "cell_type": "code",
   "execution_count": 74,
   "metadata": {},
   "outputs": [],
   "source": [
    "# For this question we want to compare a dataset of ex coders with a dataset of those who are active coders\n",
    "notCode_1 = df.dropna(subset=['ExCoderReturn'], axis=0) # Subset df with only those whoe are not in coding anymore\n",
    "notCode_0 = df[df['ExCoderReturn'].isna()] # Subset df with only those who are still in coding"
   ]
  },
  {
   "cell_type": "code",
   "execution_count": 75,
   "metadata": {},
   "outputs": [
    {
     "data": {
      "text/plain": [
       "(array([ 72.,   0., 250.,   0.,   0., 241.,   0.,  13.,   0.,   5.]),\n",
       " array([0. , 0.4, 0.8, 1.2, 1.6, 2. , 2.4, 2.8, 3.2, 3.6, 4. ]),\n",
       " <a list of 10 Patch objects>)"
      ]
     },
     "execution_count": 75,
     "metadata": {},
     "output_type": "execute_result"
    },
    {
     "data": {
      "image/png": "[encoded data removed]",
      "text/plain": [
       "<Figure size 432x288 with 1 Axes>"
      ]
     },
     "metadata": {
      "needs_background": "light"
     },
     "output_type": "display_data"
    }
   ],
   "source": [
    "# We plot the answers associated to the question whether people enjoy learning new technolgies\n",
    "# for the ex-coders\n",
    "notCode_1 = notCode_1.dropna(subset=['LearningNewTech'], axis=0)\n",
    "plt.hist(notCode_1['LearningNewTech'])"
   ]
  },
  {
   "cell_type": "code",
   "execution_count": 76,
   "metadata": {},
   "outputs": [
    {
     "data": {
      "text/plain": [
       "(array([12202.,     0., 15077.,     0.,     0.,  2970.,     0.,   357.,\n",
       "            0.,   117.]),\n",
       " array([0. , 0.4, 0.8, 1.2, 1.6, 2. , 2.4, 2.8, 3.2, 3.6, 4. ]),\n",
       " <a list of 10 Patch objects>)"
      ]
     },
     "execution_count": 76,
     "metadata": {},
     "output_type": "execute_result"
    },
    {
     "data": {
      "image/png": "[encoded data removed]",
      "text/plain": [
       "<Figure size 432x288 with 1 Axes>"
      ]
     },
     "metadata": {
      "needs_background": "light"
     },
     "output_type": "display_data"
    }
   ],
   "source": [
    "# and the currently active coders\n",
    "notCode_0 = notCode_0.dropna(subset=['LearningNewTech'], axis=0)\n",
    "plt.hist(notCode_0['LearningNewTech'])"
   ]
  },
  {
   "cell_type": "code",
   "execution_count": null,
   "metadata": {},
   "outputs": [],
   "source": []
  },
  {
   "cell_type": "code",
   "execution_count": 77,
   "metadata": {},
   "outputs": [],
   "source": [
    "# Research Question 3: Are ex-coders who would still consider coding, happy with their current job?"
   ]
  },
  {
   "cell_type": "code",
   "execution_count": 78,
   "metadata": {},
   "outputs": [
    {
     "data": {
      "text/html": [
       "<div>\n",
       "<style scoped>\n",
       "    .dataframe tbody tr th:only-of-type {\n",
       "        vertical-align: middle;\n",
       "    }\n",
       "\n",
       "    .dataframe tbody tr th {\n",
       "        vertical-align: top;\n",
       "    }\n",
       "\n",
       "    .dataframe thead th {\n",
       "        text-align: right;\n",
       "    }\n",
       "</style>\n",
       "<table border=\"1\" class=\"dataframe\">\n",
       "  <thead>\n",
       "    <tr style=\"text-align: right;\">\n",
       "      <th></th>\n",
       "      <th>Respondent</th>\n",
       "      <th>CareerSatisfaction</th>\n",
       "      <th>JobSatisfaction</th>\n",
       "      <th>HoursPerWeek</th>\n",
       "      <th>StackOverflowSatisfaction</th>\n",
       "      <th>Salary</th>\n",
       "      <th>ExpectedSalary</th>\n",
       "    </tr>\n",
       "    <tr>\n",
       "      <th>ExCoderReturn</th>\n",
       "      <th></th>\n",
       "      <th></th>\n",
       "      <th></th>\n",
       "      <th></th>\n",
       "      <th></th>\n",
       "      <th></th>\n",
       "      <th></th>\n",
       "    </tr>\n",
       "  </thead>\n",
       "  <tbody>\n",
       "    <tr>\n",
       "      <th>Agree</th>\n",
       "      <td>26587.028000</td>\n",
       "      <td>6.534137</td>\n",
       "      <td>6.409091</td>\n",
       "      <td>5.355932</td>\n",
       "      <td>8.153846</td>\n",
       "      <td>NaN</td>\n",
       "      <td>NaN</td>\n",
       "    </tr>\n",
       "    <tr>\n",
       "      <th>Disagree</th>\n",
       "      <td>24796.195238</td>\n",
       "      <td>7.019139</td>\n",
       "      <td>6.806452</td>\n",
       "      <td>3.566265</td>\n",
       "      <td>7.892617</td>\n",
       "      <td>NaN</td>\n",
       "      <td>NaN</td>\n",
       "    </tr>\n",
       "    <tr>\n",
       "      <th>Somewhat agree</th>\n",
       "      <td>25610.265116</td>\n",
       "      <td>7.080189</td>\n",
       "      <td>6.865031</td>\n",
       "      <td>7.178947</td>\n",
       "      <td>7.993333</td>\n",
       "      <td>NaN</td>\n",
       "      <td>NaN</td>\n",
       "    </tr>\n",
       "    <tr>\n",
       "      <th>Strongly agree</th>\n",
       "      <td>29182.931507</td>\n",
       "      <td>6.130137</td>\n",
       "      <td>5.686441</td>\n",
       "      <td>5.428571</td>\n",
       "      <td>8.275229</td>\n",
       "      <td>NaN</td>\n",
       "      <td>NaN</td>\n",
       "    </tr>\n",
       "    <tr>\n",
       "      <th>Strongly disagree</th>\n",
       "      <td>26991.147059</td>\n",
       "      <td>6.460784</td>\n",
       "      <td>7.175676</td>\n",
       "      <td>3.483871</td>\n",
       "      <td>8.092105</td>\n",
       "      <td>26213.845218</td>\n",
       "      <td>NaN</td>\n",
       "    </tr>\n",
       "  </tbody>\n",
       "</table>\n",
       "</div>"
      ],
      "text/plain": [
       "                     Respondent  CareerSatisfaction  JobSatisfaction  \\\n",
       "ExCoderReturn                                                          \n",
       "Agree              26587.028000            6.534137         6.409091   \n",
       "Disagree           24796.195238            7.019139         6.806452   \n",
       "Somewhat agree     25610.265116            7.080189         6.865031   \n",
       "Strongly agree     29182.931507            6.130137         5.686441   \n",
       "Strongly disagree  26991.147059            6.460784         7.175676   \n",
       "\n",
       "                   HoursPerWeek  StackOverflowSatisfaction        Salary  \\\n",
       "ExCoderReturn                                                              \n",
       "Agree                  5.355932                   8.153846           NaN   \n",
       "Disagree               3.566265                   7.892617           NaN   \n",
       "Somewhat agree         7.178947                   7.993333           NaN   \n",
       "Strongly agree         5.428571                   8.275229           NaN   \n",
       "Strongly disagree      3.483871                   8.092105  26213.845218   \n",
       "\n",
       "                   ExpectedSalary  \n",
       "ExCoderReturn                      \n",
       "Agree                         NaN  \n",
       "Disagree                      NaN  \n",
       "Somewhat agree                NaN  \n",
       "Strongly agree                NaN  \n",
       "Strongly disagree             NaN  "
      ]
     },
     "execution_count": 78,
     "metadata": {},
     "output_type": "execute_result"
    }
   ],
   "source": [
    "# This shows the ratings of Job Satisfaction grouped by the answers towards the Ex Coder question\n",
    "df.groupby('ExCoderReturn').mean() "
   ]
  },
  {
   "cell_type": "code",
   "execution_count": null,
   "metadata": {},
   "outputs": [],
   "source": []
  },
  {
   "cell_type": "code",
   "execution_count": null,
   "metadata": {},
   "outputs": [],
   "source": [
    "# CLEAN\n",
    "# DATA PREPARATION"
   ]
  },
  {
   "cell_type": "code",
   "execution_count": 79,
   "metadata": {},
   "outputs": [],
   "source": [
    "# Research Question 4: What are the best predictors?\n",
    "# In this analysis we want to explore what are the best predicots in the dataset why an indiviual would answer with\n",
    "# strongly agree to the statement whether learning new tech is fun\n",
    "notCode_1 = df.dropna(subset=['ExCoderReturn'], axis=0) # Subset df with only those who are not in coding anymore"
   ]
  },
  {
   "cell_type": "code",
   "execution_count": 80,
   "metadata": {},
   "outputs": [
    {
     "data": {
      "text/plain": [
       "(923, 152)"
      ]
     },
     "execution_count": 80,
     "metadata": {},
     "output_type": "execute_result"
    }
   ],
   "source": [
    "# drop respondent from columns\n",
    "# We \n",
    "notCode_1 = notCode_1.drop(['Respondent', 'ExpectedSalary'], axis=1)\n",
    "notCode_1.shape"
   ]
  },
  {
   "cell_type": "code",
   "execution_count": 81,
   "metadata": {},
   "outputs": [],
   "source": [
    "# interesting plots\n",
    "#notCode_1.hist();\n",
    "#sns.heatmap(notCode_1.corr(), annot = True, fmt = '.2f');"
   ]
  },
  {
   "cell_type": "code",
   "execution_count": 82,
   "metadata": {},
   "outputs": [
    {
     "data": {
      "text/plain": [
       "464"
      ]
     },
     "execution_count": 82,
     "metadata": {},
     "output_type": "execute_result"
    }
   ],
   "source": [
    "# minimum existing values in calomn with minimum existing values\n",
    "notCode_1.isna().describe().loc['freq'].min()"
   ]
  },
  {
   "cell_type": "code",
   "execution_count": 83,
   "metadata": {},
   "outputs": [
    {
     "data": {
      "text/plain": [
       "array([dtype('O'), dtype('float64')], dtype=object)"
      ]
     },
     "execution_count": 83,
     "metadata": {},
     "output_type": "execute_result"
    }
   ],
   "source": [
    "# show datatypes in the dataframe\n",
    "notCode_1.dtypes.unique()"
   ]
  },
  {
   "cell_type": "code",
   "execution_count": 84,
   "metadata": {},
   "outputs": [],
   "source": [
    "# fill missing values in numeric columns with mean\n",
    "num_notCode_1 = notCode_1.select_dtypes(include=['float', 'int']).columns\n",
    "for col in num_notCode_1:\n",
    "    notCode_1[col].fillna((notCode_1[col].mean()), inplace=True)"
   ]
  },
  {
   "cell_type": "code",
   "execution_count": 88,
   "metadata": {},
   "outputs": [
    {
     "data": {
      "text/plain": [
       "(923, 152)"
      ]
     },
     "execution_count": 88,
     "metadata": {},
     "output_type": "execute_result"
    }
   ],
   "source": [
    "notCode_1.shape"
   ]
  },
  {
   "cell_type": "code",
   "execution_count": 89,
   "metadata": {},
   "outputs": [],
   "source": [
    "# impute missing values in numerical columns\n"
   ]
  },
  {
   "cell_type": "code",
   "execution_count": 90,
   "metadata": {},
   "outputs": [],
   "source": [
    "# Create dummy variables\n",
    "# Subset dataframe to only cat variables\n",
    "cat_notCode_1 = notCode_1.select_dtypes(include=['object'])\n",
    "cat_notCode_1.shape\n",
    "\n",
    "# pull a list of the columns names of the categorial variables\n",
    "cat_cols_lst = cat_notCode_1.columns"
   ]
  },
  {
   "cell_type": "code",
   "execution_count": 91,
   "metadata": {},
   "outputs": [],
   "source": [
    "# Function to create dummy variables\n",
    "def create_dummy_df(df, cat_cols, dummy_na):\n",
    "    '''\n",
    "    This function creates a new dataframe that includes dummy variables for all categorial variables\n",
    "    '''\n",
    "    for col in cat_cols:\n",
    "        df = pd.concat([df.drop(col, axis=1), pd.get_dummies(df[col], prefix=col, prefix_sep='_', drop_first=True, dummy_na=dummy_na)], axis=1)\n",
    "    return df"
   ]
  },
  {
   "cell_type": "code",
   "execution_count": 92,
   "metadata": {},
   "outputs": [
    {
     "data": {
      "text/html": [
       "<div>\n",
       "<style scoped>\n",
       "    .dataframe tbody tr th:only-of-type {\n",
       "        vertical-align: middle;\n",
       "    }\n",
       "\n",
       "    .dataframe tbody tr th {\n",
       "        vertical-align: top;\n",
       "    }\n",
       "\n",
       "    .dataframe thead th {\n",
       "        text-align: right;\n",
       "    }\n",
       "</style>\n",
       "<table border=\"1\" class=\"dataframe\">\n",
       "  <thead>\n",
       "    <tr style=\"text-align: right;\">\n",
       "      <th></th>\n",
       "      <th>CareerSatisfaction</th>\n",
       "      <th>JobSatisfaction</th>\n",
       "      <th>HoursPerWeek</th>\n",
       "      <th>StackOverflowSatisfaction</th>\n",
       "      <th>Salary</th>\n",
       "      <th>Professional_Professional non-developer who sometimes writes code</th>\n",
       "      <th>Professional_Used to be a professional developer</th>\n",
       "      <th>ProgramHobby_Yes, I contribute to open source projects</th>\n",
       "      <th>ProgramHobby_Yes, I program as a hobby</th>\n",
       "      <th>ProgramHobby_Yes, both</th>\n",
       "      <th>...</th>\n",
       "      <th>QuestionsInteresting_Strongly agree</th>\n",
       "      <th>QuestionsInteresting_Strongly disagree</th>\n",
       "      <th>QuestionsConfusing_Disagree</th>\n",
       "      <th>QuestionsConfusing_Somewhat agree</th>\n",
       "      <th>QuestionsConfusing_Strongly agree</th>\n",
       "      <th>QuestionsConfusing_Strongly disagree</th>\n",
       "      <th>InterestedAnswers_Disagree</th>\n",
       "      <th>InterestedAnswers_Somewhat agree</th>\n",
       "      <th>InterestedAnswers_Strongly agree</th>\n",
       "      <th>InterestedAnswers_Strongly disagree</th>\n",
       "    </tr>\n",
       "  </thead>\n",
       "  <tbody>\n",
       "    <tr>\n",
       "      <th>12</th>\n",
       "      <td>3.000000</td>\n",
       "      <td>6.565598</td>\n",
       "      <td>1.000000</td>\n",
       "      <td>5.0</td>\n",
       "      <td>26213.845218</td>\n",
       "      <td>0</td>\n",
       "      <td>1</td>\n",
       "      <td>0</td>\n",
       "      <td>1</td>\n",
       "      <td>0</td>\n",
       "      <td>...</td>\n",
       "      <td>0</td>\n",
       "      <td>0</td>\n",
       "      <td>1</td>\n",
       "      <td>0</td>\n",
       "      <td>0</td>\n",
       "      <td>0</td>\n",
       "      <td>0</td>\n",
       "      <td>0</td>\n",
       "      <td>0</td>\n",
       "      <td>0</td>\n",
       "    </tr>\n",
       "    <tr>\n",
       "      <th>46</th>\n",
       "      <td>6.698257</td>\n",
       "      <td>6.565598</td>\n",
       "      <td>5.287129</td>\n",
       "      <td>8.0</td>\n",
       "      <td>26213.845218</td>\n",
       "      <td>0</td>\n",
       "      <td>1</td>\n",
       "      <td>0</td>\n",
       "      <td>0</td>\n",
       "      <td>0</td>\n",
       "      <td>...</td>\n",
       "      <td>0</td>\n",
       "      <td>0</td>\n",
       "      <td>0</td>\n",
       "      <td>0</td>\n",
       "      <td>0</td>\n",
       "      <td>0</td>\n",
       "      <td>0</td>\n",
       "      <td>0</td>\n",
       "      <td>0</td>\n",
       "      <td>0</td>\n",
       "    </tr>\n",
       "    <tr>\n",
       "      <th>197</th>\n",
       "      <td>8.000000</td>\n",
       "      <td>9.000000</td>\n",
       "      <td>5.287129</td>\n",
       "      <td>10.0</td>\n",
       "      <td>26213.845218</td>\n",
       "      <td>0</td>\n",
       "      <td>1</td>\n",
       "      <td>0</td>\n",
       "      <td>1</td>\n",
       "      <td>0</td>\n",
       "      <td>...</td>\n",
       "      <td>0</td>\n",
       "      <td>0</td>\n",
       "      <td>0</td>\n",
       "      <td>0</td>\n",
       "      <td>0</td>\n",
       "      <td>0</td>\n",
       "      <td>0</td>\n",
       "      <td>0</td>\n",
       "      <td>0</td>\n",
       "      <td>0</td>\n",
       "    </tr>\n",
       "    <tr>\n",
       "      <th>266</th>\n",
       "      <td>3.000000</td>\n",
       "      <td>6.565598</td>\n",
       "      <td>4.000000</td>\n",
       "      <td>8.0</td>\n",
       "      <td>26213.845218</td>\n",
       "      <td>0</td>\n",
       "      <td>1</td>\n",
       "      <td>0</td>\n",
       "      <td>1</td>\n",
       "      <td>0</td>\n",
       "      <td>...</td>\n",
       "      <td>0</td>\n",
       "      <td>0</td>\n",
       "      <td>0</td>\n",
       "      <td>0</td>\n",
       "      <td>0</td>\n",
       "      <td>1</td>\n",
       "      <td>0</td>\n",
       "      <td>0</td>\n",
       "      <td>0</td>\n",
       "      <td>0</td>\n",
       "    </tr>\n",
       "    <tr>\n",
       "      <th>309</th>\n",
       "      <td>6.000000</td>\n",
       "      <td>6.565598</td>\n",
       "      <td>21.000000</td>\n",
       "      <td>8.0</td>\n",
       "      <td>26213.845218</td>\n",
       "      <td>0</td>\n",
       "      <td>1</td>\n",
       "      <td>0</td>\n",
       "      <td>0</td>\n",
       "      <td>1</td>\n",
       "      <td>...</td>\n",
       "      <td>0</td>\n",
       "      <td>0</td>\n",
       "      <td>0</td>\n",
       "      <td>0</td>\n",
       "      <td>0</td>\n",
       "      <td>1</td>\n",
       "      <td>0</td>\n",
       "      <td>0</td>\n",
       "      <td>1</td>\n",
       "      <td>0</td>\n",
       "    </tr>\n",
       "  </tbody>\n",
       "</table>\n",
       "<p>5 rows × 4122 columns</p>\n",
       "</div>"
      ],
      "text/plain": [
       "     CareerSatisfaction  JobSatisfaction  HoursPerWeek  \\\n",
       "12             3.000000         6.565598      1.000000   \n",
       "46             6.698257         6.565598      5.287129   \n",
       "197            8.000000         9.000000      5.287129   \n",
       "266            3.000000         6.565598      4.000000   \n",
       "309            6.000000         6.565598     21.000000   \n",
       "\n",
       "     StackOverflowSatisfaction        Salary  \\\n",
       "12                         5.0  26213.845218   \n",
       "46                         8.0  26213.845218   \n",
       "197                       10.0  26213.845218   \n",
       "266                        8.0  26213.845218   \n",
       "309                        8.0  26213.845218   \n",
       "\n",
       "     Professional_Professional non-developer who sometimes writes code  \\\n",
       "12                                                   0                   \n",
       "46                                                   0                   \n",
       "197                                                  0                   \n",
       "266                                                  0                   \n",
       "309                                                  0                   \n",
       "\n",
       "     Professional_Used to be a professional developer  \\\n",
       "12                                                  1   \n",
       "46                                                  1   \n",
       "197                                                 1   \n",
       "266                                                 1   \n",
       "309                                                 1   \n",
       "\n",
       "     ProgramHobby_Yes, I contribute to open source projects  \\\n",
       "12                                                   0        \n",
       "46                                                   0        \n",
       "197                                                  0        \n",
       "266                                                  0        \n",
       "309                                                  0        \n",
       "\n",
       "     ProgramHobby_Yes, I program as a hobby  ProgramHobby_Yes, both  ...  \\\n",
       "12                                        1                       0  ...   \n",
       "46                                        0                       0  ...   \n",
       "197                                       1                       0  ...   \n",
       "266                                       1                       0  ...   \n",
       "309                                       0                       1  ...   \n",
       "\n",
       "     QuestionsInteresting_Strongly agree  \\\n",
       "12                                     0   \n",
       "46                                     0   \n",
       "197                                    0   \n",
       "266                                    0   \n",
       "309                                    0   \n",
       "\n",
       "     QuestionsInteresting_Strongly disagree  QuestionsConfusing_Disagree  \\\n",
       "12                                        0                            1   \n",
       "46                                        0                            0   \n",
       "197                                       0                            0   \n",
       "266                                       0                            0   \n",
       "309                                       0                            0   \n",
       "\n",
       "     QuestionsConfusing_Somewhat agree  QuestionsConfusing_Strongly agree  \\\n",
       "12                                   0                                  0   \n",
       "46                                   0                                  0   \n",
       "197                                  0                                  0   \n",
       "266                                  0                                  0   \n",
       "309                                  0                                  0   \n",
       "\n",
       "     QuestionsConfusing_Strongly disagree  InterestedAnswers_Disagree  \\\n",
       "12                                      0                           0   \n",
       "46                                      0                           0   \n",
       "197                                     0                           0   \n",
       "266                                     1                           0   \n",
       "309                                     1                           0   \n",
       "\n",
       "     InterestedAnswers_Somewhat agree  InterestedAnswers_Strongly agree  \\\n",
       "12                                  0                                 0   \n",
       "46                                  0                                 0   \n",
       "197                                 0                                 0   \n",
       "266                                 0                                 0   \n",
       "309                                 0                                 1   \n",
       "\n",
       "     InterestedAnswers_Strongly disagree  \n",
       "12                                     0  \n",
       "46                                     0  \n",
       "197                                    0  \n",
       "266                                    0  \n",
       "309                                    0  \n",
       "\n",
       "[5 rows x 4122 columns]"
      ]
     },
     "execution_count": 92,
     "metadata": {},
     "output_type": "execute_result"
    }
   ],
   "source": [
    "notCode_1_new = create_dummy_df(notCode_1, cat_cols_lst, dummy_na=False)\n",
    "notCode_1_new.head()"
   ]
  },
  {
   "cell_type": "code",
   "execution_count": 93,
   "metadata": {},
   "outputs": [
    {
     "data": {
      "text/plain": [
       "0"
      ]
     },
     "execution_count": 93,
     "metadata": {},
     "output_type": "execute_result"
    }
   ],
   "source": [
    "# check if there are still any rows/columns with missing Values\n",
    "np.sum(notCode_1_new.isna().describe().loc['freq'] < 923)"
   ]
  },
  {
   "cell_type": "code",
   "execution_count": 94,
   "metadata": {},
   "outputs": [],
   "source": [
    "# print all columns\n",
    "#for col in notCode_1_new.columns:\n",
    "#    print(col)"
   ]
  },
  {
   "cell_type": "code",
   "execution_count": null,
   "metadata": {},
   "outputs": [],
   "source": [
    "# MODELING"
   ]
  },
  {
   "cell_type": "code",
   "execution_count": 95,
   "metadata": {},
   "outputs": [],
   "source": [
    "# create predictors and predictions\n",
    "X = notCode_1_new.drop(columns=['ExCoderReturn_Strongly agree', 'ExCoderReturn_Strongly disagree', 'ExCoderReturn_Disagree', 'ExCoderReturn_Somewhat agree'])\n",
    "y = notCode_1_new['ExCoderReturn_Strongly agree']\n",
    "\n",
    "# Split data\n",
    "X_train, X_test, y_train, y_test = train_test_split(X,y,test_size=.2,random_state=50)\n",
    "\n",
    "# instantiate\n",
    "lm_model = LinearRegression(normalize=True)\n",
    "\n",
    "# fit the model\n",
    "lm_model.fit(X_train, y_train)\n",
    "\n",
    "# predict data\n",
    "y_test_preds = lm_model.predict(X_test)\n",
    "\n",
    "# Score the model\n",
    "r2_test = r2_score(y_test, y_test_preds)"
   ]
  },
  {
   "cell_type": "code",
   "execution_count": null,
   "metadata": {},
   "outputs": [],
   "source": [
    "# EVALUATION"
   ]
  },
  {
   "cell_type": "code",
   "execution_count": 96,
   "metadata": {},
   "outputs": [],
   "source": [
    "# look at the coefficients\n",
    "\n",
    "coefs = pd.DataFrame()\n",
    "coefs['Predictor'] = X_train.columns\n",
    "coefs['Coefficients'] = lm_model.coef_\n",
    "coefs['Abs_Coefficients'] = np.abs(lm_model.coef_)\n",
    "coefs = coefs.sort_values('Coefficients', ascending=False)\n"
   ]
  },
  {
   "cell_type": "code",
   "execution_count": 97,
   "metadata": {},
   "outputs": [
    {
     "data": {
      "text/html": [
       "<div>\n",
       "<style scoped>\n",
       "    .dataframe tbody tr th:only-of-type {\n",
       "        vertical-align: middle;\n",
       "    }\n",
       "\n",
       "    .dataframe tbody tr th {\n",
       "        vertical-align: top;\n",
       "    }\n",
       "\n",
       "    .dataframe thead th {\n",
       "        text-align: right;\n",
       "    }\n",
       "</style>\n",
       "<table border=\"1\" class=\"dataframe\">\n",
       "  <thead>\n",
       "    <tr style=\"text-align: right;\">\n",
       "      <th></th>\n",
       "      <th>Predictor</th>\n",
       "      <th>Coefficients</th>\n",
       "      <th>Abs_Coefficients</th>\n",
       "    </tr>\n",
       "  </thead>\n",
       "  <tbody>\n",
       "    <tr>\n",
       "      <th>373</th>\n",
       "      <td>ImportantBenefits_Annual bonus; Equipment; Pro...</td>\n",
       "      <td>0.967262</td>\n",
       "      <td>0.967262</td>\n",
       "    </tr>\n",
       "    <tr>\n",
       "      <th>1096</th>\n",
       "      <td>SelfTaughtTypes_Official documentation; Non-St...</td>\n",
       "      <td>0.910842</td>\n",
       "      <td>0.910842</td>\n",
       "    </tr>\n",
       "    <tr>\n",
       "      <th>665</th>\n",
       "      <td>ImportantBenefits_Stock options; Annual bonus;...</td>\n",
       "      <td>0.758383</td>\n",
       "      <td>0.758383</td>\n",
       "    </tr>\n",
       "    <tr>\n",
       "      <th>787</th>\n",
       "      <td>ImportantBenefits_Vacation/days off; Long-term...</td>\n",
       "      <td>0.680968</td>\n",
       "      <td>0.680968</td>\n",
       "    </tr>\n",
       "    <tr>\n",
       "      <th>3459</th>\n",
       "      <td>Methodology_Extreme; Pair; Mob</td>\n",
       "      <td>0.615661</td>\n",
       "      <td>0.615661</td>\n",
       "    </tr>\n",
       "    <tr>\n",
       "      <th>...</th>\n",
       "      <td>...</td>\n",
       "      <td>...</td>\n",
       "      <td>...</td>\n",
       "    </tr>\n",
       "    <tr>\n",
       "      <th>3518</th>\n",
       "      <td>Methodology_Waterfall; Agile; PRINCE2; Scrum</td>\n",
       "      <td>-0.330501</td>\n",
       "      <td>0.330501</td>\n",
       "    </tr>\n",
       "    <tr>\n",
       "      <th>3539</th>\n",
       "      <td>Methodology_Waterfall; Agile; Scrum; Kanban; D...</td>\n",
       "      <td>-0.378905</td>\n",
       "      <td>0.378905</td>\n",
       "    </tr>\n",
       "    <tr>\n",
       "      <th>3790</th>\n",
       "      <td>MetricAssess_Customer satisfaction; Revenue pe...</td>\n",
       "      <td>-0.382234</td>\n",
       "      <td>0.382234</td>\n",
       "    </tr>\n",
       "    <tr>\n",
       "      <th>375</th>\n",
       "      <td>ImportantBenefits_Annual bonus; Equipment; Pro...</td>\n",
       "      <td>-0.431506</td>\n",
       "      <td>0.431506</td>\n",
       "    </tr>\n",
       "    <tr>\n",
       "      <th>403</th>\n",
       "      <td>ImportantBenefits_Annual bonus; Vacation/days ...</td>\n",
       "      <td>-0.729066</td>\n",
       "      <td>0.729066</td>\n",
       "    </tr>\n",
       "  </tbody>\n",
       "</table>\n",
       "<p>4118 rows × 3 columns</p>\n",
       "</div>"
      ],
      "text/plain": [
       "                                              Predictor  Coefficients  \\\n",
       "373   ImportantBenefits_Annual bonus; Equipment; Pro...      0.967262   \n",
       "1096  SelfTaughtTypes_Official documentation; Non-St...      0.910842   \n",
       "665   ImportantBenefits_Stock options; Annual bonus;...      0.758383   \n",
       "787   ImportantBenefits_Vacation/days off; Long-term...      0.680968   \n",
       "3459                     Methodology_Extreme; Pair; Mob      0.615661   \n",
       "...                                                 ...           ...   \n",
       "3518       Methodology_Waterfall; Agile; PRINCE2; Scrum     -0.330501   \n",
       "3539  Methodology_Waterfall; Agile; Scrum; Kanban; D...     -0.378905   \n",
       "3790  MetricAssess_Customer satisfaction; Revenue pe...     -0.382234   \n",
       "375   ImportantBenefits_Annual bonus; Equipment; Pro...     -0.431506   \n",
       "403   ImportantBenefits_Annual bonus; Vacation/days ...     -0.729066   \n",
       "\n",
       "      Abs_Coefficients  \n",
       "373           0.967262  \n",
       "1096          0.910842  \n",
       "665           0.758383  \n",
       "787           0.680968  \n",
       "3459          0.615661  \n",
       "...                ...  \n",
       "3518          0.330501  \n",
       "3539          0.378905  \n",
       "3790          0.382234  \n",
       "375           0.431506  \n",
       "403           0.729066  \n",
       "\n",
       "[4118 rows x 3 columns]"
      ]
     },
     "execution_count": 97,
     "metadata": {},
     "output_type": "execute_result"
    }
   ],
   "source": [
    "coefs"
   ]
  },
  {
   "cell_type": "code",
   "execution_count": 98,
   "metadata": {},
   "outputs": [
    {
     "data": {
      "text/plain": [
       "'ImportantBenefits_Annual bonus; Equipment; Professional development sponsorship; Education sponsorship'"
      ]
     },
     "execution_count": 98,
     "metadata": {},
     "output_type": "execute_result"
    }
   ],
   "source": [
    "coefs.iloc[0][0]"
   ]
  },
  {
   "cell_type": "code",
   "execution_count": 99,
   "metadata": {},
   "outputs": [
    {
     "data": {
      "text/plain": [
       "'SelfTaughtTypes_Official documentation; Non-Stack online communities'"
      ]
     },
     "execution_count": 99,
     "metadata": {},
     "output_type": "execute_result"
    }
   ],
   "source": [
    "coefs.iloc[1][0]"
   ]
  },
  {
   "cell_type": "code",
   "execution_count": 100,
   "metadata": {},
   "outputs": [
    {
     "data": {
      "text/plain": [
       "'ImportantBenefits_Stock options; Annual bonus; Vacation/days off; Health benefits; Equipment'"
      ]
     },
     "execution_count": 100,
     "metadata": {},
     "output_type": "execute_result"
    }
   ],
   "source": [
    "coefs.iloc[2][0]"
   ]
  },
  {
   "cell_type": "code",
   "execution_count": null,
   "metadata": {},
   "outputs": [],
   "source": []
  }
 ],
 "metadata": {
  "kernelspec": {
   "display_name": "Python 3",
   "language": "python",
   "name": "python3"
  },
  "language_info": {
   "codemirror_mode": {
    "name": "ipython",
    "version": 3
   },
   "file_extension": ".py",
   "mimetype": "text/x-python",
   "name": "python",
   "nbconvert_exporter": "python",
   "pygments_lexer": "ipython3",
   "version": "3.8.3"
  }
 },
 "nbformat": 4,
 "nbformat_minor": 4
}
